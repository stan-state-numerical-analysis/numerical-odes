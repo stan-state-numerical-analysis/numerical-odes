{
 "cells": [
  {
   "cell_type": "markdown",
   "metadata": {},
   "source": [
    "# Task 1"
   ]
  },
  {
   "cell_type": "code",
   "execution_count": null,
   "metadata": {},
   "outputs": [],
   "source": [
    "# Task: Visualize the result of Euler's Method in Python to analyze accuracy.\n",
    "\n",
    "# 1. Import matplotlib.pyplot with its corresponding alias and the math library."
   ]
  },
  {
   "cell_type": "code",
   "execution_count": null,
   "metadata": {},
   "outputs": [],
   "source": [
    "# 2. Copy and paste the Euler's Method function from class (called eulers_method)."
   ]
  },
  {
   "cell_type": "code",
   "execution_count": null,
   "metadata": {},
   "outputs": [],
   "source": [
    "# 3. Define a function called plot_newtons_method that outputs the result of applying Newton's Method\n",
    "# to an ODE initial value problem with specified step sizes.\n",
    "#    - Parameters:\n",
    "#      - f: The function representing the ODE.\n",
    "#      - t0: Initial time.\n",
    "#      - y0: Initial value of y.\n",
    "#      - t_end: End time.\n",
    "#      - step_sizes: List of step sizes to compare.\n",
    "#      - true_y: The true solution to the ODE.\n",
    "\n",
    "\n",
    "\n",
    "    fig, ax = plt.subplots(figsize=(12, 8))\n",
    "\n",
    "    # 3. Loop through each step size.\n",
    "\n",
    "\n",
    "\n",
    "        # 4. Save the outputs of eulers_method with the corresponding\n",
    "        # step size to t_values and y_values.\n",
    "\n",
    "\n",
    "\n",
    "        # 5. Plot the results of Euler's Method using the label Step Size = #\n",
    "        # where # is replaced with the actual step size.\n",
    "\n",
    "\n",
    "\n",
    "    # 6. Create a list called y_values that evaluates true_y for each t in t_values.\n",
    "\n",
    "\n",
    "\n",
    "    # 7. Plot true_y in the color black with the label True Solution.\n",
    "\n",
    "\n",
    "\n",
    "    ax.set_xlabel(\"t\")\n",
    "    ax.set_ylabel(\"y\")\n",
    "    ax.set_title(\"Euler's Method for Different Step Sizes\")\n",
    "    ax.legend()\n",
    "    ax.grid(True)\n",
    "    return fig"
   ]
  },
  {
   "cell_type": "code",
   "execution_count": null,
   "metadata": {},
   "outputs": [],
   "source": [
    "# 8. Define a function f representing the ODE dy/dt = -2ty."
   ]
  },
  {
   "cell_type": "code",
   "execution_count": null,
   "metadata": {},
   "outputs": [],
   "source": [
    "# 9. Define a function true_y representing the solution to the ODE dy/dt = -2ty with y(0)=1.\n",
    "# You will need to use the math library here."
   ]
  },
  {
   "cell_type": "code",
   "execution_count": null,
   "metadata": {},
   "outputs": [],
   "source": [
    "# 10. Apply the plot_eulers_method function to the ODE dy/dt = -2ty with an initial value\n",
    "# y(0) = 1, end time of 2, and step_sizes 0.2, 0.1, 0.05, 0.01, and 0.001."
   ]
  },
  {
   "cell_type": "markdown",
   "metadata": {},
   "source": [
    "# Task 2"
   ]
  },
  {
   "cell_type": "code",
   "execution_count": null,
   "metadata": {},
   "outputs": [],
   "source": [
    "# Task: Visualize the result of the 2nd-Order Runge-Kutta Method in Python to analyze accuracy.\n",
    "\n",
    "# 1. Import matplotlib.pyplot with its corresponding alias."
   ]
  },
  {
   "cell_type": "code",
   "execution_count": null,
   "metadata": {},
   "outputs": [],
   "source": [
    "# 2. Create a function called runge_kutta_2 that approximates the ODE solution using the 2nd-order Runge-Kutta method.\n",
    "#    - Parameters:\n",
    "#      - f: The function representing the ODE.\n",
    "#      - t0: Initial time.\n",
    "#      - y0: Initial value of y.\n",
    "#      - t_end: End time.\n",
    "#      - step_size: Size of each time step.\n",
    "\n",
    "\n",
    "\n",
    "    # 3. Initialize the lists t_values and y_values using the initial condition.\n",
    "\n",
    "\n",
    "\n",
    "    # 4. Use a while-loop which breaks once the next step exceeds the end time.\n",
    "\n",
    "\n",
    "\n",
    "        # 5. Initialize the variable k1 from the Runge-Kutta method.\n",
    "\n",
    "\n",
    "\n",
    "        # 6. # 5. Initialize the variable k2 from the Runge-Kutta method.\n",
    "\n",
    "\n",
    "\n",
    "        # 7. Append to y_values the approximate value for the next time step.\n",
    "\n",
    "\n",
    "\n",
    "        # 8. Append the new time step to the t_values list.\n",
    "\n",
    "\n",
    "\n",
    "    # 9. Return the t_values and y_values lists."
   ]
  },
  {
   "cell_type": "code",
   "execution_count": null,
   "metadata": {},
   "outputs": [],
   "source": [
    "# 10. Define a function called plot_runge_kutta_2 that outputs the result of applying the 2nd-Order\n",
    "# Runge-Kutta Method to an ODE initial value problem with specified step sizes. Copy and paste the code\n",
    "# from task_1 and make the necessary adjustments. Set the title to:\n",
    "# 2nd-Order Runge-Kutta Method for Different Step Sizes"
   ]
  },
  {
   "cell_type": "code",
   "execution_count": null,
   "metadata": {},
   "outputs": [],
   "source": [
    "# 11. Import f and true_y from task_1.py."
   ]
  },
  {
   "cell_type": "code",
   "execution_count": null,
   "metadata": {},
   "outputs": [],
   "source": [
    "# 12. Apply the plot_runge_kutta_2 function to the ODE dy/dt = -2ty with an initial value\n",
    "# y(0) = 1, end time of 2, and step_sizes 0.2, 0.1, 0.05, 0.01, and 0.001."
   ]
  },
  {
   "cell_type": "markdown",
   "metadata": {},
   "source": [
    "# Task 3"
   ]
  },
  {
   "cell_type": "code",
   "execution_count": null,
   "metadata": {},
   "outputs": [],
   "source": [
    "# Task: Visualize the result of the 4th-Order Runge-Kutta Method in Python to analyze accuracy.\n",
    "\n",
    "# 1. Import matplotlib.pyplot with its corresponding alias."
   ]
  },
  {
   "cell_type": "code",
   "execution_count": null,
   "metadata": {},
   "outputs": [],
   "source": [
    "# 2. Create a function called runge_kutta_4 that approximates the ODE solution using the 4th-Order Runge-Kutta method.\n",
    "#    - Parameters:\n",
    "#      - f: The function representing the ODE.\n",
    "#      - t0: Initial time.\n",
    "#      - y0: Initial value of y.\n",
    "#      - t_end: End time.\n",
    "#      - step_size: Size of each time step.\n",
    "\n",
    "\n",
    "\n",
    "    # 3. Initialize the lists t_values and y_values using the initial condition.\n",
    "\n",
    "\n",
    "\n",
    "    # 4. Use a while-loop which breaks once the next step exceeds the end time.\n",
    "\n",
    "\n",
    "\n",
    "        # 5. Initialize the variables k1, k2, k3, k4 from the 4th-Order Runge-Kutta method.\n",
    "\n",
    "        \n",
    "\n",
    "        # 6. Append to y_values the approximate value for the next time step.\n",
    "\n",
    "        \n",
    "\n",
    "        # 7. Append the new time step to the t_values list.\n",
    "\n",
    "        \n",
    "\n",
    "    # 8. Return the t_values and y_values lists."
   ]
  },
  {
   "cell_type": "code",
   "execution_count": null,
   "metadata": {},
   "outputs": [],
   "source": [
    "# 9. Define a function called plot_runge_kutta_4 that outputs the result of applying the 4th-Order\n",
    "# Runge-Kutta Method to an ODE initial value problem with specified step sizes. Copy and paste the code\n",
    "# from task_1 or task_2 and make the necessary adjustments. Set the title to:\n",
    "# 4th-Order Runge-Kutta Method for Different Step Sizes."
   ]
  },
  {
   "cell_type": "code",
   "execution_count": null,
   "metadata": {},
   "outputs": [],
   "source": [
    "# 10. Import f and true_y from task_1.py."
   ]
  },
  {
   "cell_type": "code",
   "execution_count": null,
   "metadata": {},
   "outputs": [],
   "source": [
    "# 11. Apply the plot_runge_kutta_4 function to the ODE dy/dt = -2ty with an initial value\n",
    "# y(0) = 1, end time of 2, and step_sizes 0.2, 0.1, 0.05, 0.01, and 0.001."
   ]
  }
 ],
 "metadata": {
  "language_info": {
   "name": "python"
  }
 },
 "nbformat": 4,
 "nbformat_minor": 2
}
